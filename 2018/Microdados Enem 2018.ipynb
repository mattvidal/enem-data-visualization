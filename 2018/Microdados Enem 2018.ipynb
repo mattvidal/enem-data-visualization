{
 "cells": [
  {
   "cell_type": "markdown",
   "metadata": {},
   "source": [
    "# Microdados Enem 2018\n",
    "###### Fonte: INEP"
   ]
  },
  {
   "cell_type": "markdown",
   "metadata": {},
   "source": [
    "## Dicionário dos Microdados\n",
    "\n",
    "| Nome da Variável | Descrição | Tamanho | Tipo | Exemplo |\n",
    "| --- | --- | --- | --- | --- |\n",
    "| NO_MUNICIPIO_RESIDENCIA | Nome do município de residência | 150 | Alfanumérico | Rio de Janeiro |\n",
    "| SG_UF_RESIDENCIA | Sigla da Unidade da Federação de residência | 2 | Alfanumérico | RJ |\n",
    "| NU_IDADE | Idade | 3 | Alfanumérico | 23 |\n",
    "| TP_COR_RACA | Cor/raça | 1 | Numérico | Branca |\n",
    "| TP_ESCOLA | Tipo de escola do Ensino Médio | 1 | Numérico | Pública |\n",
    "| IN_NOME_SOCIAL | Indicador de inscrito que se declarou travesti, transexual ou transgênero e solicitou atendimento pelo Nome Social, conforme é reconhecido socialmente em consonância com sua identidade de gênero | 1 | Numérico | Sim/Não |\n",
    "| Q025 | Na sua residência tem acesso à Internet? | 1 | Alfanumérico | Sim/Não |\n",
    "\n",
    "\n",
    "\n"
   ]
  },
  {
   "cell_type": "code",
   "execution_count": null,
   "metadata": {},
   "outputs": [],
   "source": [
    "import pandas as pd\n",
    "import numpy as np\n",
    "import zipfile\n",
    "import json\n",
    "import matplotlib.pyplot as plt\n",
    "import folium\n",
    "from folium import plugins\n",
    "\n",
    "pd.options.plotting.backend = \"plotly\"\n",
    "\n",
    "with zipfile.ZipFile('enem_2018_reduzido.zip') as z:\n",
    "    with z.open('enem_2018_reduzido.csv') as f:\n",
    "        enem = pd.read_csv(f, encoding = 'cp1252', sep = ';', \n",
    "                      usecols=[\"NO_MUNICIPIO_RESIDENCIA\", \"SG_UF_RESIDENCIA\",\"NU_IDADE\", \n",
    "                            \"TP_COR_RACA\", \"TP_ESCOLA\", \"IN_NOME_SOCIAL\", \"Q025\"])\n",
    "\n",
    "geo_json = json.load(open('../br_states.json'))\n",
    "\n",
    "cidades = pd.read_csv('../Cidades.csv')\n",
    "cidades = cidades.set_index('nome')\n"
   ]
  },
  {
   "cell_type": "code",
   "execution_count": null,
   "metadata": {},
   "outputs": [],
   "source": [
    "# Leitura dos quantitativos seguindo alguns parâmetros informados no dicionário de microdados.\n",
    "\n",
    "sem_internet = enem.query('Q025 == \"B\"').groupby(['SG_UF_RESIDENCIA','Q025']).size().reset_index(name='counts')[[\"SG_UF_RESIDENCIA\",\"counts\"]]\n",
    "\n",
    "nome_social = enem.query('IN_NOME_SOCIAL == 1').groupby(['SG_UF_RESIDENCIA','IN_NOME_SOCIAL']).size().reset_index(name='counts')[[\"SG_UF_RESIDENCIA\",\"counts\"]]\n",
    "\n",
    "escola_publica = enem.query('TP_ESCOLA == 2').groupby(['SG_UF_RESIDENCIA','TP_ESCOLA']).size().reset_index(name='counts')[[\"SG_UF_RESIDENCIA\",\"counts\"]]\n",
    "\n",
    "cor = enem.query('TP_COR_RACA in [2, 3, 4, 5]').groupby(['SG_UF_RESIDENCIA']).size().reset_index(name='counts')[[\"SG_UF_RESIDENCIA\",\"counts\"]]\n",
    "\n",
    "idoso = enem.query('NU_IDADE >= 60').groupby(['SG_UF_RESIDENCIA']).size().reset_index(name='counts')[[\"SG_UF_RESIDENCIA\",\"counts\"]]\n",
    "\n",
    "qtd_estado = enem.groupby(['SG_UF_RESIDENCIA']).size().reset_index(name='counts')[[\"SG_UF_RESIDENCIA\",\"counts\"]]"
   ]
  },
  {
   "cell_type": "code",
   "execution_count": null,
   "metadata": {},
   "outputs": [],
   "source": [
    "def GerarMapa(dados, legenda, pontos = None):\n",
    "    \n",
    "    mapa = folium.Map([-15.788497, -47.879873], zoom_start=4)\n",
    "\n",
    "    choropleth = folium.Choropleth(\n",
    "        geo_data=geo_json,\n",
    "         name='choropleth',\n",
    "         data=dados,\n",
    "         columns=['SG_UF_RESIDENCIA', 'counts'],\n",
    "         key_on='feature.id',\n",
    "         fill_color='YlOrRd',\n",
    "         fill_opacity = 1,\n",
    "         line_color = 'black',\n",
    "         tooltip = 'Teste',\n",
    "         marker_line_color='white',\n",
    "         legend_name=legenda,\n",
    "         highlight=True\n",
    "    ).add_to(mapa)\n",
    "    \n",
    "    if pontos is not None:\n",
    "        for i in range(0, len(pontos)):\n",
    "            choropleth = folium.Circle(\n",
    "                name='pontos',\n",
    "                location = [pontos.iloc[i]['latitude'], pontos.iloc[i]['longitude']],\n",
    "                color = '#00FF69',\n",
    "                fill = '00A1B3',\n",
    "                tooltip = ' Cidade: ' + str(pontos.iloc[i]['NO_MUNICIPIO_RESIDENCIA']) + \n",
    "                          ' Quantidade: '  + str(pontos.iloc[i]['counts']),\n",
    "                radius = (pontos.iloc[i]['counts'] ** 1.1)\n",
    "            ).add_to(mapa)\n",
    "                        \n",
    "    return mapa\n",
    "\n",
    "def GerarGrafico(dados, legenda):\n",
    "    valores = list(dados['counts'].values)\n",
    "    sticks = list(dados['SG_UF_RESIDENCIA'].values)\n",
    "\n",
    "    plt.rcParams['figure.figsize'] = (11,7)\n",
    "    plt.bar(sticks,valores)\n",
    "    plt.xlabel('Estados')\n",
    "    plt.ylabel(\"Candidatos\")\n",
    "    plt.title(legenda)\n",
    "    plt.grid(zorder=0)\n",
    "\n",
    "    return plt.show()"
   ]
  },
  {
   "cell_type": "markdown",
   "metadata": {},
   "source": [
    "## Candidatos sem acesso a Internet em suas casas.\n"
   ]
  },
  {
   "cell_type": "code",
   "execution_count": null,
   "metadata": {},
   "outputs": [],
   "source": [
    "GerarMapa(sem_internet, \"Candidatos sem acesso a Internet em suas casas\")"
   ]
  },
  {
   "cell_type": "code",
   "execution_count": null,
   "metadata": {},
   "outputs": [],
   "source": [
    "GerarGrafico(sem_internet, \"Candidatos sem acesso a Internet em suas casas\")"
   ]
  },
  {
   "cell_type": "markdown",
   "metadata": {},
   "source": [
    "## Candidatos que se declararam travestis, transexuais ou transgêneros. \n",
    "\n",
    "### Todas as pessoas que se declararam travestis, transexuais ou transgêneros desses microdados solicitaram atendimento pelo Nome Social, conforme é reconhecido socialmente em consonância com sua identidade de gênero."
   ]
  },
  {
   "cell_type": "code",
   "execution_count": null,
   "metadata": {},
   "outputs": [],
   "source": [
    "nome_social_cidades = enem.query('IN_NOME_SOCIAL == 1').groupby(['IN_NOME_SOCIAL', 'NO_MUNICIPIO_RESIDENCIA']).size().reset_index(name='counts')[[\"NO_MUNICIPIO_RESIDENCIA\",\"counts\"]]\n",
    "\n",
    "pontos = nome_social_cidades.join(cidades , on = 'NO_MUNICIPIO_RESIDENCIA')\n",
    "\n",
    "pontos = pontos[['NO_MUNICIPIO_RESIDENCIA', 'counts','latitude', 'longitude']]\n",
    "\n",
    "GerarMapa(nome_social, \"Candidatos que solicitaram atendimento pelo Nome Social\", pontos)"
   ]
  },
  {
   "cell_type": "code",
   "execution_count": null,
   "metadata": {},
   "outputs": [],
   "source": [
    "GerarGrafico(nome_social, \"Candidatos que solicitaram atendimento pelo Nome Social\")"
   ]
  },
  {
   "cell_type": "markdown",
   "metadata": {},
   "source": [
    "## Candidatos que estudaram em escola pública."
   ]
  },
  {
   "cell_type": "code",
   "execution_count": null,
   "metadata": {},
   "outputs": [],
   "source": [
    "GerarMapa(escola_publica, \"Candidatos que estudaram em escola publica\")"
   ]
  },
  {
   "cell_type": "code",
   "execution_count": null,
   "metadata": {},
   "outputs": [],
   "source": [
    "GerarGrafico(escola_publica, \"Candidatos que estudaram em escola publica\")"
   ]
  },
  {
   "cell_type": "markdown",
   "metadata": {},
   "source": [
    "## Candidatos que se autodeclararam pretos, pardos, amarelos ou indígenas."
   ]
  },
  {
   "cell_type": "code",
   "execution_count": null,
   "metadata": {},
   "outputs": [],
   "source": [
    "GerarMapa(cor, \"Candidatos se autodeclararam pretos, pardos, amarelos ou indigenas\")"
   ]
  },
  {
   "cell_type": "code",
   "execution_count": null,
   "metadata": {},
   "outputs": [],
   "source": [
    "GerarGrafico(cor, \"Candidatos se autodeclararam pretos, pardos, amarelos ou indigenas\")"
   ]
  },
  {
   "cell_type": "markdown",
   "metadata": {},
   "source": [
    "## Candidatos idosos\n",
    "### Segundo a Organização Mundial da Saúde, idoso é todo indivíduo com 60 anos ou mais."
   ]
  },
  {
   "cell_type": "code",
   "execution_count": null,
   "metadata": {},
   "outputs": [],
   "source": [
    "GerarMapa(idoso, \"Candidatos idosos\")"
   ]
  },
  {
   "cell_type": "code",
   "execution_count": null,
   "metadata": {},
   "outputs": [],
   "source": [
    "GerarGrafico(idoso, \"Candidatos idosos\")"
   ]
  },
  {
   "cell_type": "markdown",
   "metadata": {},
   "source": [
    "## Candidatos e seus estados de residência"
   ]
  },
  {
   "cell_type": "code",
   "execution_count": null,
   "metadata": {},
   "outputs": [],
   "source": [
    "GerarMapa(qtd_estado, \"Candidatos e seus estados de residencia\")"
   ]
  },
  {
   "cell_type": "code",
   "execution_count": null,
   "metadata": {},
   "outputs": [],
   "source": [
    "GerarGrafico(qtd_estado, \"Candidatos e seus estados de residencia\")"
   ]
  }
 ],
 "metadata": {
  "kernelspec": {
   "display_name": "Python 3",
   "language": "python",
   "name": "python3"
  },
  "language_info": {
   "codemirror_mode": {
    "name": "ipython",
    "version": 3
   },
   "file_extension": ".py",
   "mimetype": "text/x-python",
   "name": "python",
   "nbconvert_exporter": "python",
   "pygments_lexer": "ipython3",
   "version": "3.8.3"
  }
 },
 "nbformat": 4,
 "nbformat_minor": 4
}
